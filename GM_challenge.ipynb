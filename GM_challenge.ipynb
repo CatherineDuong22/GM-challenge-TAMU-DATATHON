{
 "cells": [
  {
   "cell_type": "code",
   "execution_count": 1,
   "metadata": {},
   "outputs": [
    {
     "name": "stdout",
     "output_type": "stream",
     "text": [
      "Instantiating visualizer\n",
      "\u001b[1;33m[Open3D WARNING] GLFW Error: Cocoa: Failed to find service port for display\u001b[0;m\n"
     ]
    }
   ],
   "source": [
    "# read in untransformed bolt\n",
    "# The untransformed location of the bolt is such that the center of the head is at 0,0,0\n",
    "# and it is pointing in the direction and centered on the positive x axis.\n",
    "# For example, rotating it around the z axis 90 degrees will make it appear pointing left\n",
    "from utility.pose_data import get_bolt_depthimage, show_depthimage, make_pointcloud, get_random_transform\n",
    "from utility.transformation_matrix import TransformationMatrix\n",
    "from utility.visualizer import visualizer as vis\n",
    "import numpy as np\n",
    "# depthimage = get_bolt_depthimage()\n",
    "# show_depthimage(depthimage)"
   ]
  },
  {
   "cell_type": "code",
   "execution_count": 2,
   "metadata": {},
   "outputs": [],
   "source": [
    "# transform = TransformationMatrix.from_xyzwpr([0,0,0,0,0,90])\n",
    "# print(transform)\n",
    "# depthimage = get_bolt_depthimage(transform)\n",
    "# show_depthimage(depthimage)"
   ]
  },
  {
   "cell_type": "code",
   "execution_count": 3,
   "metadata": {},
   "outputs": [],
   "source": [
    "# transform = get_random_transform()\n",
    "# print(transform)\n",
    "# depthimage = get_bolt_depthimage(transform)\n",
    "# show_depthimage(depthimage)\n",
    "# pcd = make_pointcloud(depthimage)\n",
    "# print('Now I\\'m a point cloud. Try moving me around!')\n",
    "# vis.draw_geometries([pcd], moveable=False)"
   ]
  },
  {
   "cell_type": "code",
   "execution_count": 18,
   "metadata": {},
   "outputs": [],
   "source": [
    "# make training data\n",
    "n = 500\n",
    "trans = np.array([get_random_transform() for _ in range(n)])\n",
    "depth_img = np.array([get_bolt_depthimage(val) for val in trans])"
   ]
  },
  {
   "cell_type": "code",
   "execution_count": 5,
   "metadata": {},
   "outputs": [],
   "source": [
    "# save training data\n",
    "\n",
    "# train_data = np.array([np.array([trans[i], depth_img[i]], dtype=object) for i in range(n)])\n",
    "# np.save('train_data.npy', train_data)"
   ]
  },
  {
   "cell_type": "code",
   "execution_count": 6,
   "metadata": {},
   "outputs": [],
   "source": [
    "# file = np.load('train_data.npy', allow_pickle=True)\n",
    "# depth_img = file[1]\n",
    "# trans = file[0]"
   ]
  },
  {
   "cell_type": "code",
   "execution_count": 7,
   "metadata": {},
   "outputs": [],
   "source": [
    "# # probably don't need\n",
    "# def find_norm(vec):\n",
    "#     mag = np.sqrt((vec[0] ** 2) + (vec[1] ** 2) + (vec[2] ** 2))\n",
    "#     return np.array([vec[0] / mag, vec[1] / mag, vec[2] / mag])"
   ]
  },
  {
   "cell_type": "code",
   "execution_count": 50,
   "metadata": {},
   "outputs": [],
   "source": [
    "# make model function\n",
    "from sklearn.neighbors import KNeighborsRegressor\n",
    "\n",
    "def model(X, y):\n",
    "    m = KNeighborsRegressor()\n",
    "    m.fit(X, y)\n",
    "    return m\n",
    "\n",
    "# def model2(X, y):\n",
    "#     m = KNeighborsRegressor(weights='distance', metric='euclidean')\n",
    "#     m.fit(X, y)\n",
    "#     return m\n",
    "\n",
    "# def model3(X, y):\n",
    "#     m = KNeighborsRegressor(weights='distance', metric='manhattan')\n",
    "#     m.fit(X, y)\n",
    "#     return m\n",
    "\n",
    "# def model(X, y):\n",
    "#     m = KNeighborsRegressor(weights='distance', metric='chebyshev')\n",
    "#     m.fit(X, y)\n",
    "#     return m\n",
    "\n",
    "# def model5(X, y):\n",
    "#     m = KNeighborsRegressor(weights='distance', metric='wminkowski')\n",
    "#     m.fit(X, y)\n",
    "#     return m"
   ]
  },
  {
   "cell_type": "code",
   "execution_count": 51,
   "metadata": {},
   "outputs": [
    {
     "name": "stdout",
     "output_type": "stream",
     "text": [
      "(500, 2, 1080, 1920)\n",
      "(500, 12)\n",
      "(500, 4147200)\n"
     ]
    }
   ],
   "source": [
    "# reshape data for model\n",
    "print(depth_img.shape)\n",
    "translation_flat = trans[:, :3, :].reshape(n, 12)\n",
    "depth_flat = depth_img.reshape(n, (depth_img.shape[1] * depth_img.shape[2] * depth_img.shape[3]))\n",
    "\n",
    "print(translation_flat.shape)\n",
    "print(depth_flat.shape)"
   ]
  },
  {
   "cell_type": "code",
   "execution_count": 52,
   "metadata": {},
   "outputs": [],
   "source": [
    "\n",
    "\n",
    "# make model\n",
    "\n",
    "m = model(depth_flat, translation_flat)\n",
    "# m2 = model2(depth_flat, translation_flat)\n",
    "# m3 = model3(depth_flat, translation_flat)\n",
    "# m4 = model4(depth_flat, translation_flat)\n",
    "# m5 = model5(depth_flat, translation_flat)"
   ]
  },
  {
   "cell_type": "code",
   "execution_count": 53,
   "metadata": {},
   "outputs": [
    {
     "name": "stdout",
     "output_type": "stream",
     "text": [
      "Truth\n",
      "x=0.0, y=0.0, z=10.0\n",
      "x_rotate=0.0°, y_rotate=20.0°, z_rotate=0.0°\n"
     ]
    },
    {
     "data": {
      "image/png": "[encoded data removed]",
      "text/plain": [
       "<Figure size 1080x1080 with 2 Axes>"
      ]
     },
     "metadata": {
      "needs_background": "light"
     },
     "output_type": "display_data"
    },
    {
     "name": "stdout",
     "output_type": "stream",
     "text": [
      "(1, 4147200)\n",
      "(3, 4)\n",
      "(3,)\n",
      "Estimate\n",
      "x=10.07, y=0.31, z=10.22\n",
      "x_rotate=-0.02°, y_rotate=6.52°, z_rotate=-3.76°\n",
      "\n",
      "Error: 7.04\n"
     ]
    }
   ],
   "source": [
    "#import numpy as np\n",
    "from scipy.spatial.transform import Rotation as R\n",
    "\n",
    "\n",
    "def rotation_between_vectors(u, v):\n",
    "    # u and v are both 3D unit vectors\n",
    "    axis = np.cross(u, v)\n",
    "    unit = axis / np.linalg.norm(axis)\n",
    "    angle = np.arccos(np.dot(u, v))\n",
    "    rotvec = unit * angle\n",
    "    return R.from_rotvec(rotvec)\n",
    "\n",
    "\n",
    "def estimator(transformed_depthimage, debug=False):\n",
    "    transformed_depthimage = np.array(transformed_depthimage)\n",
    "    # print(transformed_depthimage.shape)\n",
    "    transformed_depthimage = transformed_depthimage.reshape(1, (transformed_depthimage.shape[0] \n",
    "                                            * transformed_depthimage.shape[1] * transformed_depthimage.shape[2]))\n",
    "    print(transformed_depthimage.shape)\n",
    "    prediction = m.predict(transformed_depthimage)\n",
    "    prediction = prediction.reshape(3,4)\n",
    "    print(prediction.shape)\n",
    "    rot = prediction[:, :3]\n",
    "    translation = prediction[:, -1:].reshape(3,)\n",
    "    print(translation.shape)\n",
    "    return TransformationMatrix.compose(rot, translation)\n",
    "#     orig_normal = np.array([1,0,0]) # the bolt head is initially pointed in the x direction\n",
    "#     orig_center = np.array([0,0,0]) # the bolt head is initially centered at 0,0,0\n",
    "\n",
    "#     trns_pcd = make_pointcloud(transformed_depthimage)\n",
    "#     trns_center = trns_pcd.get_center()\n",
    "#     translation = (trns_center - orig_center)\n",
    "#     rot = np.zeros(3) # dummy values\n",
    "#     rot[0] = 0 # the rotation in x_rotate will always be 0 because I made that constraint\n",
    "#     rot = R.from_euler('xyz', rot).as_matrix()\n",
    "#     return TransformationMatrix.compose(rot, translation)\n",
    "\n",
    "transform = TransformationMatrix.from_xyzwpr([0,0,10,0,20,0])\n",
    "print('Truth')\n",
    "print(transform)\n",
    "transformed = get_bolt_depthimage(transform)\n",
    "transformed_pcd = make_pointcloud(transformed)\n",
    "\n",
    "show_depthimage(transformed)\n",
    "vis.draw_geometries([transformed_pcd], moveable=False)\n",
    "#m = model(depth_flat, translation_flat)\n",
    "estimate = estimator(transformed, debug=False)\n",
    "print('Estimate')\n",
    "print(estimate)\n",
    "from utility.pose_estimation import transform_error, evaluate_random\n",
    "\n",
    "print('\\nError:', transform_error(estimate, transform).round(3))\n",
    "\n",
    "# ###### TESTING ####\n",
    "# estimate = estimator(transformed, m2, debug=False)\n",
    "# print('Estimate')\n",
    "# print(estimate)\n",
    "# from utility.pose_estimation import transform_error, evaluate_random\n",
    "\n",
    "# print('\\nError:', transform_error(estimate, transform).round(3))\n",
    "\n",
    "# estimate = estimator(transformed, m3, debug=False)\n",
    "# print('Estimate')\n",
    "# print(estimate)\n",
    "# from utility.pose_estimation import transform_error, evaluate_random\n",
    "\n",
    "# print('\\nError:', transform_error(estimate, transform).round(3))\n",
    "\n",
    "# estimate = estimator(transformed, m4, debug=False)\n",
    "# print('Estimate')\n",
    "# print(estimate)\n",
    "# from utility.pose_estimation import transform_error, evaluate_random\n",
    "\n",
    "# print('\\nError:', transform_error(estimate, transform).round(3))\n",
    "\n",
    "# estimate = estimator(transformed, m5, debug=False)\n",
    "# print('Estimate')\n",
    "# print(estimate)\n",
    "# from utility.pose_estimation import transform_error, evaluate_random\n",
    "\n",
    "# print('\\nError:', transform_error(estimate, transform).round(3))"
   ]
  },
  {
   "cell_type": "code",
   "execution_count": 45,
   "metadata": {},
   "outputs": [
    {
     "data": {
      "text/plain": [
       "4.992021474532707"
      ]
     },
     "execution_count": 45,
     "metadata": {},
     "output_type": "execute_result"
    }
   ],
   "source": [
    "# you can use this convience function to get the loss on a random transformation\n",
    "evaluate_random(estimator) "
   ]
  },
  {
   "cell_type": "code",
   "execution_count": 46,
   "metadata": {},
   "outputs": [],
   "source": [
    "import os\n",
    "os.environ[\"DISCORD_USERNAME\"] = \"Katherine_Stevens#0321\""
   ]
  },
  {
   "cell_type": "code",
   "execution_count": 47,
   "metadata": {},
   "outputs": [
    {
     "name": "stdout",
     "output_type": "stream",
     "text": [
      "Estimating transformations\n"
     ]
    },
    {
     "name": "stderr",
     "output_type": "stream",
     "text": [
      "\r",
      "  0%|                                                   | 0/200 [00:00<?, ?it/s]"
     ]
    },
    {
     "ename": "ValueError",
     "evalue": "X has 4005120 features, but KNeighborsRegressor is expecting 4147200 features as input.",
     "output_type": "error",
     "traceback": [
      "\u001b[0;31m---------------------------------------------------------------------------\u001b[0m",
      "\u001b[0;31mValueError\u001b[0m                                Traceback (most recent call last)",
      "\u001b[0;32m/var/folders/7m/fn9465fx53jbznmg7s4jr6z40000gn/T/ipykernel_18790/3373841002.py\u001b[0m in \u001b[0;36m<module>\u001b[0;34m\u001b[0m\n\u001b[1;32m      3\u001b[0m \u001b[0;34m\u001b[0m\u001b[0m\n\u001b[1;32m      4\u001b[0m \u001b[0mprint\u001b[0m\u001b[0;34m(\u001b[0m\u001b[0;34m'Estimating transformations'\u001b[0m\u001b[0;34m)\u001b[0m\u001b[0;34m\u001b[0m\u001b[0;34m\u001b[0m\u001b[0m\n\u001b[0;32m----> 5\u001b[0;31m \u001b[0mestimates\u001b[0m \u001b[0;34m=\u001b[0m \u001b[0mnp\u001b[0m\u001b[0;34m.\u001b[0m\u001b[0marray\u001b[0m\u001b[0;34m(\u001b[0m\u001b[0;34m[\u001b[0m\u001b[0mestimator\u001b[0m\u001b[0;34m(\u001b[0m\u001b[0mimg\u001b[0m\u001b[0;34m)\u001b[0m \u001b[0;32mfor\u001b[0m \u001b[0mimg\u001b[0m \u001b[0;32min\u001b[0m \u001b[0mtqdm\u001b[0m\u001b[0;34m(\u001b[0m\u001b[0mtest_images\u001b[0m\u001b[0;34m)\u001b[0m\u001b[0;34m]\u001b[0m\u001b[0;34m)\u001b[0m\u001b[0;34m\u001b[0m\u001b[0;34m\u001b[0m\u001b[0m\n\u001b[0m\u001b[1;32m      6\u001b[0m \u001b[0mmake_submission\u001b[0m\u001b[0;34m(\u001b[0m\u001b[0mestimates\u001b[0m\u001b[0;34m)\u001b[0m\u001b[0;34m\u001b[0m\u001b[0;34m\u001b[0m\u001b[0m\n",
      "\u001b[0;32m/var/folders/7m/fn9465fx53jbznmg7s4jr6z40000gn/T/ipykernel_18790/3373841002.py\u001b[0m in \u001b[0;36m<listcomp>\u001b[0;34m(.0)\u001b[0m\n\u001b[1;32m      3\u001b[0m \u001b[0;34m\u001b[0m\u001b[0m\n\u001b[1;32m      4\u001b[0m \u001b[0mprint\u001b[0m\u001b[0;34m(\u001b[0m\u001b[0;34m'Estimating transformations'\u001b[0m\u001b[0;34m)\u001b[0m\u001b[0;34m\u001b[0m\u001b[0;34m\u001b[0m\u001b[0m\n\u001b[0;32m----> 5\u001b[0;31m \u001b[0mestimates\u001b[0m \u001b[0;34m=\u001b[0m \u001b[0mnp\u001b[0m\u001b[0;34m.\u001b[0m\u001b[0marray\u001b[0m\u001b[0;34m(\u001b[0m\u001b[0;34m[\u001b[0m\u001b[0mestimator\u001b[0m\u001b[0;34m(\u001b[0m\u001b[0mimg\u001b[0m\u001b[0;34m)\u001b[0m \u001b[0;32mfor\u001b[0m \u001b[0mimg\u001b[0m \u001b[0;32min\u001b[0m \u001b[0mtqdm\u001b[0m\u001b[0;34m(\u001b[0m\u001b[0mtest_images\u001b[0m\u001b[0;34m)\u001b[0m\u001b[0;34m]\u001b[0m\u001b[0;34m)\u001b[0m\u001b[0;34m\u001b[0m\u001b[0;34m\u001b[0m\u001b[0m\n\u001b[0m\u001b[1;32m      6\u001b[0m \u001b[0mmake_submission\u001b[0m\u001b[0;34m(\u001b[0m\u001b[0mestimates\u001b[0m\u001b[0;34m)\u001b[0m\u001b[0;34m\u001b[0m\u001b[0;34m\u001b[0m\u001b[0m\n",
      "\u001b[0;32m/var/folders/7m/fn9465fx53jbznmg7s4jr6z40000gn/T/ipykernel_18790/3199757394.py\u001b[0m in \u001b[0;36mestimator\u001b[0;34m(transformed_depthimage, debug)\u001b[0m\n\u001b[1;32m     18\u001b[0m                                             * transformed_depthimage.shape[1] * transformed_depthimage.shape[2]))\n\u001b[1;32m     19\u001b[0m \u001b[0;34m\u001b[0m\u001b[0m\n\u001b[0;32m---> 20\u001b[0;31m     \u001b[0mprediction\u001b[0m \u001b[0;34m=\u001b[0m \u001b[0mm\u001b[0m\u001b[0;34m.\u001b[0m\u001b[0mpredict\u001b[0m\u001b[0;34m(\u001b[0m\u001b[0mtransformed_depthimage\u001b[0m\u001b[0;34m)\u001b[0m\u001b[0;34m\u001b[0m\u001b[0;34m\u001b[0m\u001b[0m\n\u001b[0m\u001b[1;32m     21\u001b[0m     \u001b[0mprediction\u001b[0m \u001b[0;34m=\u001b[0m \u001b[0mprediction\u001b[0m\u001b[0;34m.\u001b[0m\u001b[0mreshape\u001b[0m\u001b[0;34m(\u001b[0m\u001b[0;36m3\u001b[0m\u001b[0;34m,\u001b[0m\u001b[0;36m4\u001b[0m\u001b[0;34m)\u001b[0m\u001b[0;34m\u001b[0m\u001b[0;34m\u001b[0m\u001b[0m\n\u001b[1;32m     22\u001b[0m \u001b[0;34m\u001b[0m\u001b[0m\n",
      "\u001b[0;32m~/opt/miniconda3/envs/gm-env/lib/python3.8/site-packages/sklearn/neighbors/_regression.py\u001b[0m in \u001b[0;36mpredict\u001b[0;34m(self, X)\u001b[0m\n\u001b[1;32m    227\u001b[0m             \u001b[0mTarget\u001b[0m \u001b[0mvalues\u001b[0m\u001b[0;34m.\u001b[0m\u001b[0;34m\u001b[0m\u001b[0;34m\u001b[0m\u001b[0m\n\u001b[1;32m    228\u001b[0m         \"\"\"\n\u001b[0;32m--> 229\u001b[0;31m         \u001b[0mX\u001b[0m \u001b[0;34m=\u001b[0m \u001b[0mself\u001b[0m\u001b[0;34m.\u001b[0m\u001b[0m_validate_data\u001b[0m\u001b[0;34m(\u001b[0m\u001b[0mX\u001b[0m\u001b[0;34m,\u001b[0m \u001b[0maccept_sparse\u001b[0m\u001b[0;34m=\u001b[0m\u001b[0;34m\"csr\"\u001b[0m\u001b[0;34m,\u001b[0m \u001b[0mreset\u001b[0m\u001b[0;34m=\u001b[0m\u001b[0;32mFalse\u001b[0m\u001b[0;34m)\u001b[0m\u001b[0;34m\u001b[0m\u001b[0;34m\u001b[0m\u001b[0m\n\u001b[0m\u001b[1;32m    230\u001b[0m \u001b[0;34m\u001b[0m\u001b[0m\n\u001b[1;32m    231\u001b[0m         \u001b[0mneigh_dist\u001b[0m\u001b[0;34m,\u001b[0m \u001b[0mneigh_ind\u001b[0m \u001b[0;34m=\u001b[0m \u001b[0mself\u001b[0m\u001b[0;34m.\u001b[0m\u001b[0mkneighbors\u001b[0m\u001b[0;34m(\u001b[0m\u001b[0mX\u001b[0m\u001b[0;34m)\u001b[0m\u001b[0;34m\u001b[0m\u001b[0;34m\u001b[0m\u001b[0m\n",
      "\u001b[0;32m~/opt/miniconda3/envs/gm-env/lib/python3.8/site-packages/sklearn/base.py\u001b[0m in \u001b[0;36m_validate_data\u001b[0;34m(self, X, y, reset, validate_separately, **check_params)\u001b[0m\n\u001b[1;32m    574\u001b[0m \u001b[0;34m\u001b[0m\u001b[0m\n\u001b[1;32m    575\u001b[0m         \u001b[0;32mif\u001b[0m \u001b[0;32mnot\u001b[0m \u001b[0mno_val_X\u001b[0m \u001b[0;32mand\u001b[0m \u001b[0mcheck_params\u001b[0m\u001b[0;34m.\u001b[0m\u001b[0mget\u001b[0m\u001b[0;34m(\u001b[0m\u001b[0;34m\"ensure_2d\"\u001b[0m\u001b[0;34m,\u001b[0m \u001b[0;32mTrue\u001b[0m\u001b[0;34m)\u001b[0m\u001b[0;34m:\u001b[0m\u001b[0;34m\u001b[0m\u001b[0;34m\u001b[0m\u001b[0m\n\u001b[0;32m--> 576\u001b[0;31m             \u001b[0mself\u001b[0m\u001b[0;34m.\u001b[0m\u001b[0m_check_n_features\u001b[0m\u001b[0;34m(\u001b[0m\u001b[0mX\u001b[0m\u001b[0;34m,\u001b[0m \u001b[0mreset\u001b[0m\u001b[0;34m=\u001b[0m\u001b[0mreset\u001b[0m\u001b[0;34m)\u001b[0m\u001b[0;34m\u001b[0m\u001b[0;34m\u001b[0m\u001b[0m\n\u001b[0m\u001b[1;32m    577\u001b[0m \u001b[0;34m\u001b[0m\u001b[0m\n\u001b[1;32m    578\u001b[0m         \u001b[0;32mreturn\u001b[0m \u001b[0mout\u001b[0m\u001b[0;34m\u001b[0m\u001b[0;34m\u001b[0m\u001b[0m\n",
      "\u001b[0;32m~/opt/miniconda3/envs/gm-env/lib/python3.8/site-packages/sklearn/base.py\u001b[0m in \u001b[0;36m_check_n_features\u001b[0;34m(self, X, reset)\u001b[0m\n\u001b[1;32m    393\u001b[0m \u001b[0;34m\u001b[0m\u001b[0m\n\u001b[1;32m    394\u001b[0m         \u001b[0;32mif\u001b[0m \u001b[0mn_features\u001b[0m \u001b[0;34m!=\u001b[0m \u001b[0mself\u001b[0m\u001b[0;34m.\u001b[0m\u001b[0mn_features_in_\u001b[0m\u001b[0;34m:\u001b[0m\u001b[0;34m\u001b[0m\u001b[0;34m\u001b[0m\u001b[0m\n\u001b[0;32m--> 395\u001b[0;31m             raise ValueError(\n\u001b[0m\u001b[1;32m    396\u001b[0m                 \u001b[0;34mf\"X has {n_features} features, but {self.__class__.__name__} \"\u001b[0m\u001b[0;34m\u001b[0m\u001b[0;34m\u001b[0m\u001b[0m\n\u001b[1;32m    397\u001b[0m                 \u001b[0;34mf\"is expecting {self.n_features_in_} features as input.\"\u001b[0m\u001b[0;34m\u001b[0m\u001b[0;34m\u001b[0m\u001b[0m\n",
      "\u001b[0;31mValueError\u001b[0m: X has 4005120 features, but KNeighborsRegressor is expecting 4147200 features as input."
     ]
    }
   ],
   "source": [
    "from utility.pose_estimation import make_submission, test_images\n",
    "from tqdm import tqdm\n",
    "\n",
    "print('Estimating transformations')\n",
    "estimates = np.array([estimator(img) for img in tqdm(test_images)])\n",
    "make_submission(estimates)"
   ]
  },
  {
   "cell_type": "code",
   "execution_count": null,
   "metadata": {},
   "outputs": [],
   "source": [
    "from utility.scoring_client import get_highscores, get_myscores, Challenge\n",
    "get_highscores(Challenge.POSE)"
   ]
  },
  {
   "cell_type": "code",
   "execution_count": null,
   "metadata": {},
   "outputs": [],
   "source": [
    "get_myscores(Challenge.POSE)"
   ]
  },
  {
   "cell_type": "markdown",
   "metadata": {},
   "source": [
    "# Robot Control Challenge"
   ]
  },
  {
   "cell_type": "code",
   "execution_count": null,
   "metadata": {},
   "outputs": [],
   "source": [
    "from utility.remote_env import RobotorqueEnvironment\n",
    "\n",
    "env = RobotorqueEnvironment(Challenge.ROBOT)\n",
    "state = env.reset()\n",
    "history = []\n",
    "for _ in tqdm(list(range(10))):\n",
    "    robot_positions = [state['bolt_pose'].translation[1]] * env.CONTROLS_PER_CAPTURE\n",
    "    state, reward, done, info = env.step(robot_positions)\n",
    "    info['rewards'] = reward\n",
    "    history.append(info)\n",
    "\n",
    "import pandas as pd\n",
    "df = pd.DataFrame(history).round(3)\n",
    "print(df)\n",
    "print('Total Reward:', df.rewards.sum().round(1))\n",
    "if done:\n",
    "  print('Ranking', info['ranking'])\n"
   ]
  },
  {
   "cell_type": "code",
   "execution_count": null,
   "metadata": {},
   "outputs": [],
   "source": []
  }
 ],
 "metadata": {
  "interpreter": {
   "hash": "6ec053b818751a380e6fb0ff363884e48cc7de5a9cfebbd4f10cb8ae98fb90b9"
  },
  "kernelspec": {
   "display_name": "Python 3 (ipykernel)",
   "language": "python",
   "name": "python3"
  },
  "language_info": {
   "codemirror_mode": {
    "name": "ipython",
    "version": 3
   },
   "file_extension": ".py",
   "mimetype": "text/x-python",
   "name": "python",
   "nbconvert_exporter": "python",
   "pygments_lexer": "ipython3",
   "version": "3.8.12"
  }
 },
 "nbformat": 4,
 "nbformat_minor": 2
}
